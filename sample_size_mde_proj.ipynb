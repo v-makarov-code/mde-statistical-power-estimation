{
 "cells": [
  {
   "cell_type": "code",
   "execution_count": 43,
   "id": "c9f27947-fe07-4960-9950-c3dd581771d0",
   "metadata": {},
   "outputs": [],
   "source": [
    "import pandahouse as ph\n",
    "import pandas as pd\n",
    "import seaborn as sns\n",
    "import matplotlib.pyplot as plt\n",
    "import numpy as np\n",
    "from scipy import stats\n",
    "from scipy.stats import norm, ttest_ind\n",
    "from tqdm import tqdm"
   ]
  },
  {
   "cell_type": "code",
   "execution_count": 44,
   "id": "c45b6fa9-81ae-4639-8b1d-92d735b0aae6",
   "metadata": {},
   "outputs": [],
   "source": [
    "rng = np.random.default_rng()  # Объект для рандомизации из numpy"
   ]
  },
  {
   "cell_type": "code",
   "execution_count": 45,
   "id": "c580a8f8-29b4-4f3f-8f99-1a84a149745f",
   "metadata": {},
   "outputs": [],
   "source": [
    "#Распределение просмотров\n",
    "connection = {'host': 'https://clickhouse.lab.karpov.courses',\n",
    "'database':'simulator_20250520',\n",
    "'user':'student',\n",
    "'password':'dpo_python_2020'\n",
    "}\n",
    "## АА-тест\n",
    "q = \"\"\"\n",
    "select views, count() as users\n",
    "  from (select user_id,\n",
    "               sum(action = 'view') as views\n",
    "          from {db}.feed_actions\n",
    "  where toDate(time) between '2025-04-25' and '2025-05-01'\n",
    "  group by user_id\n",
    ")\n",
    "group by views\n",
    "order by views\n",
    "\"\"\"\n",
    "\n",
    "views_distribution = ph.read_clickhouse(q, connection=connection)"
   ]
  },
  {
   "cell_type": "code",
   "execution_count": 46,
   "id": "be0d4d2b-1b15-4902-b46a-f0fb25fcd98e",
   "metadata": {},
   "outputs": [
    {
     "data": {
      "text/html": [
       "<div>\n",
       "<style scoped>\n",
       "    .dataframe tbody tr th:only-of-type {\n",
       "        vertical-align: middle;\n",
       "    }\n",
       "\n",
       "    .dataframe tbody tr th {\n",
       "        vertical-align: top;\n",
       "    }\n",
       "\n",
       "    .dataframe thead th {\n",
       "        text-align: right;\n",
       "    }\n",
       "</style>\n",
       "<table border=\"1\" class=\"dataframe\">\n",
       "  <thead>\n",
       "    <tr style=\"text-align: right;\">\n",
       "      <th></th>\n",
       "      <th>views</th>\n",
       "      <th>users</th>\n",
       "      <th>p</th>\n",
       "    </tr>\n",
       "  </thead>\n",
       "  <tbody>\n",
       "    <tr>\n",
       "      <th>15</th>\n",
       "      <td>16</td>\n",
       "      <td>545</td>\n",
       "      <td>0.012977</td>\n",
       "    </tr>\n",
       "    <tr>\n",
       "      <th>14</th>\n",
       "      <td>15</td>\n",
       "      <td>537</td>\n",
       "      <td>0.012787</td>\n",
       "    </tr>\n",
       "    <tr>\n",
       "      <th>13</th>\n",
       "      <td>14</td>\n",
       "      <td>500</td>\n",
       "      <td>0.011906</td>\n",
       "    </tr>\n",
       "    <tr>\n",
       "      <th>34</th>\n",
       "      <td>35</td>\n",
       "      <td>485</td>\n",
       "      <td>0.011548</td>\n",
       "    </tr>\n",
       "    <tr>\n",
       "      <th>29</th>\n",
       "      <td>30</td>\n",
       "      <td>469</td>\n",
       "      <td>0.011167</td>\n",
       "    </tr>\n",
       "    <tr>\n",
       "      <th>...</th>\n",
       "      <td>...</td>\n",
       "      <td>...</td>\n",
       "      <td>...</td>\n",
       "    </tr>\n",
       "    <tr>\n",
       "      <th>296</th>\n",
       "      <td>324</td>\n",
       "      <td>1</td>\n",
       "      <td>0.000024</td>\n",
       "    </tr>\n",
       "    <tr>\n",
       "      <th>297</th>\n",
       "      <td>326</td>\n",
       "      <td>1</td>\n",
       "      <td>0.000024</td>\n",
       "    </tr>\n",
       "    <tr>\n",
       "      <th>298</th>\n",
       "      <td>355</td>\n",
       "      <td>1</td>\n",
       "      <td>0.000024</td>\n",
       "    </tr>\n",
       "    <tr>\n",
       "      <th>299</th>\n",
       "      <td>364</td>\n",
       "      <td>1</td>\n",
       "      <td>0.000024</td>\n",
       "    </tr>\n",
       "    <tr>\n",
       "      <th>300</th>\n",
       "      <td>370</td>\n",
       "      <td>1</td>\n",
       "      <td>0.000024</td>\n",
       "    </tr>\n",
       "  </tbody>\n",
       "</table>\n",
       "<p>301 rows × 3 columns</p>\n",
       "</div>"
      ],
      "text/plain": [
       "     views  users         p\n",
       "15      16    545  0.012977\n",
       "14      15    537  0.012787\n",
       "13      14    500  0.011906\n",
       "34      35    485  0.011548\n",
       "29      30    469  0.011167\n",
       "..     ...    ...       ...\n",
       "296    324      1  0.000024\n",
       "297    326      1  0.000024\n",
       "298    355      1  0.000024\n",
       "299    364      1  0.000024\n",
       "300    370      1  0.000024\n",
       "\n",
       "[301 rows x 3 columns]"
      ]
     },
     "execution_count": 46,
     "metadata": {},
     "output_type": "execute_result"
    }
   ],
   "source": [
    "views_distribution['p'] = views_distribution['users']/views_distribution.users.sum()\n",
    "views_distribution.sort_values(by = 'p', ascending = False)"
   ]
  },
  {
   "cell_type": "code",
   "execution_count": 47,
   "id": "9753b388-66a8-4815-bb3f-ab64db28151e",
   "metadata": {},
   "outputs": [],
   "source": [
    "#Распределение ctr\n",
    "q = \"\"\"\n",
    "select floor(ctr, 2) as ctr, count() as users\n",
    "  from (select toDate(time) as dt, \n",
    "               user_id,\n",
    "               sum(action = 'like')/sum(action = 'view') as ctr\n",
    "          from {db}.feed_actions\n",
    "         where dt between '2025-04-25' and '2025-05-01'\n",
    "         group by dt, user_id\n",
    "        )\n",
    " group by ctr\n",
    "\"\"\"\n",
    "\n",
    "\n",
    "ctr_distribution = ph.read_clickhouse(q, connection=connection)\n",
    "ctr_distribution['p'] = ctr_distribution['users']/ctr_distribution.users.sum()"
   ]
  },
  {
   "cell_type": "markdown",
   "id": "b3655e8d-500b-4cb3-9539-2ebc9558b064",
   "metadata": {},
   "source": [
    "#### Сколько пользователей приходится на одну группу"
   ]
  },
  {
   "cell_type": "code",
   "execution_count": 48,
   "id": "6073b7e2-2994-4361-b103-a2b8ac8fe9ad",
   "metadata": {},
   "outputs": [],
   "source": [
    "q = \"\"\"\n",
    "SELECT COUNT(DISTINCT user_id)\n",
    "  FROM   {db}.feed_actions \n",
    " WHERE toDate(time) between '2025-04-25' and '2025-05-01'\n",
    "\"\"\"\n",
    "\n",
    "df = ph.read_clickhouse(q, connection=connection) # Неделя AA-теста"
   ]
  },
  {
   "cell_type": "code",
   "execution_count": 49,
   "id": "6233226d-d005-464f-b9b2-4f6860d93a38",
   "metadata": {},
   "outputs": [],
   "source": [
    "q = \"\"\"\n",
    "SELECT COUNT(DISTINCT user_id)\n",
    "  FROM   {db}.feed_actions \n",
    " WHERE toDate(time) between '2025-04-25' and '2025-05-08'\n",
    "\"\"\"\n",
    "\n",
    "df = ph.read_clickhouse(q, connection=connection) # 1 неделя AA-теста, 1 неделя AB-теста"
   ]
  },
  {
   "cell_type": "code",
   "execution_count": 50,
   "id": "ee17ab84-6f84-4746-844b-cc4af66c30c0",
   "metadata": {},
   "outputs": [],
   "source": [
    "usrs = round(df.iloc[0, 0]/2, 0).astype('int32') # кол-во пользователей за 2 недели"
   ]
  },
  {
   "cell_type": "code",
   "execution_count": 51,
   "id": "332b98a2-8430-4328-abae-f104ea26bd1f",
   "metadata": {},
   "outputs": [
    {
     "data": {
      "text/plain": [
       "np.int32(30591)"
      ]
     },
     "execution_count": 51,
     "metadata": {},
     "output_type": "execute_result"
    }
   ],
   "source": [
    "usrs"
   ]
  },
  {
   "cell_type": "markdown",
   "id": "6de60066-b839-41f7-98b9-610e97cb9e04",
   "metadata": {},
   "source": [
    "#### Оценка начального размера выборки "
   ]
  },
  {
   "cell_type": "code",
   "execution_count": 60,
   "id": "b9b7de5d-78fb-448a-ae81-d6a8e10e535a",
   "metadata": {},
   "outputs": [],
   "source": [
    "sample_size = usrs\n",
    "exp_size = 20000 # Количество симуляций"
   ]
  },
  {
   "cell_type": "markdown",
   "id": "f332236d-dd86-4277-a611-16dd5d359752",
   "metadata": {},
   "source": [
    "Модифицированные просмотры формируются следующим образом. Сначала биномальным распределением иммитируется добавление 1 или 2 просмотров, причем с события предполагаются равновероятными p=0.5. ```np.binomial(n=1, p=0.5, size=размер_выборки)``` равновероятно принимает значение 0 или 1, при добавлении 1 получаем равновероятное добавление 1 или 2 просмотров. Далее по правилу перемножения вероятности иммитируется, что алгоритм сработает в 90% случаев. А именно домножается на соответвуещее биномиальное распределение с исходами сработал 1 и не сработал 0. Далее все умножается на глобальное условие, что алгоритм вообще не будет работать если в группе B будет меньше 50 просмотров."
   ]
  },
  {
   "cell_type": "code",
   "execution_count": 65,
   "id": "618f18f3-78b5-48ff-95b9-c07eb7077906",
   "metadata": {},
   "outputs": [
    {
     "name": "stderr",
     "output_type": "stream",
     "text": [
      "100%|██████████| 20000/20000 [04:55<00:00, 67.79it/s]\n"
     ]
    }
   ],
   "source": [
    "p_values = []\n",
    "for _ in tqdm(range(exp_size)):\n",
    "    #Просмотры в группе А\n",
    "    A_views = rng.choice(\n",
    "        views_distribution['views'], size=sample_size, \n",
    "        replace=True, p=views_distribution['p']).astype(\"int32\")\n",
    "    #Просмотры в группе B \n",
    "    B_views = rng.choice(\n",
    "        views_distribution['views'], size=sample_size, \n",
    "        replace=True, p=views_distribution['p']).astype(\"int32\")\n",
    "    #Модифицирование просмотров в группе B\n",
    "    B_views = B_views + ((1 + rng.binomial(n=1, p=0.5, size=sample_size)) \n",
    "        * rng.binomial(n=1, p=0.9, size=sample_size) \n",
    "        * (B_views >= 30))\n",
    "\n",
    "    group_A_views = np.array(A_views)\n",
    "    group_B_views = np.array(B_views)\n",
    "\n",
    "    #CTR в группе А\n",
    "    A_ctr = rng.choice(\n",
    "        ctr_distribution['ctr'], size=sample_size, \n",
    "        replace=True, p=ctr_distribution['p'])\n",
    "    #CTR в группе B\n",
    "    B_ctr = rng.choice(\n",
    "        ctr_distribution['ctr'], size=sample_size, \n",
    "        replace=True, p=ctr_distribution['p'])\n",
    "\n",
    "    group_A_ctr = np.array(A_ctr)\n",
    "    group_B_ctr = np.array(B_ctr)\n",
    "\n",
    "    #Clicks в группе А\n",
    "    A_clicks = rng.binomial(\n",
    "        n=group_A_views, p=group_A_ctr, size=sample_size)\n",
    "    #CTR в группе B\n",
    "    B_clicks = rng.binomial(\n",
    "        n=group_B_views, p=group_B_ctr, size=sample_size)\n",
    "\n",
    "    group_A_clicks = np.array(A_clicks)\n",
    "    group_B_clicks = np.array(B_clicks)\n",
    "\n",
    "    # Будем отбирать только пользователей c 30 и больше просмотров\n",
    "    # Так как алгоритм не затрагивает у кого просмотров меньше 30\n",
    "    \n",
    "    mask_A = group_A_views >= 30\n",
    "    mask_B = group_B_views >= 30\n",
    "\n",
    "    masked_A_clicks = group_A_clicks[mask_A]\n",
    "    masked_B_clicks = group_B_clicks[mask_B]\n",
    "\n",
    "    p_values.append(ttest_ind(masked_A_clicks, masked_B_clicks, equal_var=False).pvalue)\n"
   ]
  },
  {
   "cell_type": "code",
   "execution_count": 66,
   "id": "9ffef272-787c-4ffb-aa2b-e8119da8c52d",
   "metadata": {},
   "outputs": [],
   "source": [
    "p_values = np.array(p_values)"
   ]
  },
  {
   "cell_type": "code",
   "execution_count": 67,
   "id": "2b0cf52c-0a60-4489-bd08-753f617cc8ad",
   "metadata": {},
   "outputs": [
    {
     "data": {
      "text/plain": [
       "np.float64(0.6491)"
      ]
     },
     "execution_count": 67,
     "metadata": {},
     "output_type": "execute_result"
    }
   ],
   "source": [
    "np.sum(p_values <= 0.05)/exp_size # Мощность теста"
   ]
  }
 ],
 "metadata": {
  "kernelspec": {
   "display_name": "Python 3 (ipykernel)",
   "language": "python",
   "name": "python3"
  },
  "language_info": {
   "codemirror_mode": {
    "name": "ipython",
    "version": 3
   },
   "file_extension": ".py",
   "mimetype": "text/x-python",
   "name": "python",
   "nbconvert_exporter": "python",
   "pygments_lexer": "ipython3",
   "version": "3.11.13"
  }
 },
 "nbformat": 4,
 "nbformat_minor": 5
}
